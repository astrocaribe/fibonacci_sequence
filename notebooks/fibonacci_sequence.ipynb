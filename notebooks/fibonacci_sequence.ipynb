{
 "cells": [
  {
   "cell_type": "code",
   "execution_count": 1,
   "metadata": {
    "collapsed": true
   },
   "outputs": [],
   "source": [
    "# Calculate the Fibonacci number given an integer, using an iterative function\n",
    "def fNumberIterative( inputValue ):\n",
    "\n",
    "    fib0 = 0\n",
    "    fib1 = 1\n",
    "\n",
    "    for currentInt in range(0, inputValue):\n",
    "        tempValue = fib0\n",
    "        fib0 = fib1\n",
    "        fib1 = fib1 + tempValue\n",
    "\n",
    "    return fib0"
   ]
  },
  {
   "cell_type": "code",
   "execution_count": 5,
   "metadata": {
    "collapsed": false
   },
   "outputs": [
    {
     "data": {
      "text/plain": [
       "6765"
      ]
     },
     "execution_count": 5,
     "metadata": {},
     "output_type": "execute_result"
    }
   ],
   "source": [
    "fNumberIterative(20)"
   ]
  },
  {
   "cell_type": "code",
   "execution_count": 3,
   "metadata": {
    "collapsed": true
   },
   "outputs": [],
   "source": [
    "# Calculate the Fibonacci number given an integer, using a recursive function\n",
    "def fNumberRecursive( inputValue ):\n",
    "\n",
    "    if inputValue == 0:\n",
    "        return 0\n",
    "    elif inputValue == 1:\n",
    "        return 1\n",
    "    else:\n",
    "        fibonacci_number = fNumberRecursive( inputValue - 1 ) + fNumberRecursive( inputValue - 2)\n",
    "        return fibonacci_number"
   ]
  },
  {
   "cell_type": "code",
   "execution_count": 6,
   "metadata": {
    "collapsed": false
   },
   "outputs": [
    {
     "data": {
      "text/plain": [
       "6765"
      ]
     },
     "execution_count": 6,
     "metadata": {},
     "output_type": "execute_result"
    }
   ],
   "source": [
    "fNumberRecursive(20)"
   ]
  },
  {
   "cell_type": "code",
   "execution_count": null,
   "metadata": {
    "collapsed": true
   },
   "outputs": [],
   "source": []
  }
 ],
 "metadata": {
  "kernelspec": {
   "display_name": "Python 2",
   "language": "python",
   "name": "python2"
  },
  "language_info": {
   "codemirror_mode": {
    "name": "ipython",
    "version": 2
   },
   "file_extension": ".py",
   "mimetype": "text/x-python",
   "name": "python",
   "nbconvert_exporter": "python",
   "pygments_lexer": "ipython2",
   "version": "2.7.10"
  }
 },
 "nbformat": 4,
 "nbformat_minor": 0
}
